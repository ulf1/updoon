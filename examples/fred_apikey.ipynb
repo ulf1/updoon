{
 "cells": [
  {
   "cell_type": "raw",
   "metadata": {},
   "source": [
    "---\n",
    "title: \"fred_apikey\"\n",
    "date: 2018-08-23T15:00:00+02:00\n",
    "draft: false\n",
    "tags: [fred_apikey, fred_apikey_set, FRED API Key, fredapi]\n",
    "---"
   ]
  },
  {
   "cell_type": "code",
   "execution_count": 1,
   "metadata": {
    "ExecuteTime": {
     "end_time": "2018-08-23T13:52:46.497352Z",
     "start_time": "2018-08-23T13:52:46.487612Z"
    }
   },
   "outputs": [],
   "source": [
    "import updoon as ud\n",
    "from importlib import reload; reload(ud);"
   ]
  },
  {
   "cell_type": "markdown",
   "metadata": {},
   "source": [
    "### Save your FRED API Key "
   ]
  },
  {
   "cell_type": "code",
   "execution_count": 2,
   "metadata": {
    "ExecuteTime": {
     "end_time": "2018-08-23T13:52:47.497575Z",
     "start_time": "2018-08-23T13:52:47.492617Z"
    }
   },
   "outputs": [],
   "source": [
    "ud.fred_apikey_set(\"mysupersecretquandlapikey\")"
   ]
  },
  {
   "cell_type": "markdown",
   "metadata": {},
   "source": [
    "### Read Your Key when needed"
   ]
  },
  {
   "cell_type": "code",
   "execution_count": 3,
   "metadata": {
    "ExecuteTime": {
     "end_time": "2018-08-23T13:52:48.558643Z",
     "start_time": "2018-08-23T13:52:48.535635Z"
    }
   },
   "outputs": [
    {
     "data": {
      "text/plain": [
       "'mysupersecretquandlapikey'"
      ]
     },
     "execution_count": 3,
     "metadata": {},
     "output_type": "execute_result"
    }
   ],
   "source": [
    "mykey = ud.fred_apikey()\n",
    "mykey"
   ]
  },
  {
   "cell_type": "markdown",
   "metadata": {},
   "source": [
    "### Using a different filepath\n",
    "Sometimes the task is to access the FRED database as part of a data product. \n",
    "For inside in a Docker container that should not hold security relevant information such as API Keys or token.\n",
    "You might mount a container folder `/data` to an external volume that contain the API Key file.\n",
    "\n",
    "```\n",
    "ud.fred_apikey_set(\"secretapikey\", \"/data/afileonexternalvolume\")\n",
    "```"
   ]
  },
  {
   "cell_type": "markdown",
   "metadata": {},
   "source": [
    "### Use it for the fred package\n",
    "I applied `fred_apikey_set` with a valid API key in the meanwhile.\n",
    "Assign the return value of `ud.fred_apikey()` to and FRED python API package as needed, e.g."
   ]
  },
  {
   "cell_type": "code",
   "execution_count": 4,
   "metadata": {
    "ExecuteTime": {
     "end_time": "2018-08-23T13:52:57.389059Z",
     "start_time": "2018-08-23T13:52:56.420033Z"
    }
   },
   "outputs": [],
   "source": [
    "from fredapi import Fred\n",
    "fred = Fred(api_key=ud.fred_apikey())"
   ]
  },
  {
   "cell_type": "markdown",
   "metadata": {},
   "source": [
    "Now everything should be good to go."
   ]
  },
  {
   "cell_type": "code",
   "execution_count": 5,
   "metadata": {
    "ExecuteTime": {
     "end_time": "2018-08-23T13:53:00.846430Z",
     "start_time": "2018-08-23T13:52:59.991981Z"
    }
   },
   "outputs": [
    {
     "data": {
      "text/plain": [
       "2008-08-22    1292.20\n",
       "2008-08-25    1266.84\n",
       "2008-08-26    1271.51\n",
       "2008-08-27    1281.66\n",
       "2008-08-28    1300.68\n",
       "dtype: float64"
      ]
     },
     "execution_count": 5,
     "metadata": {},
     "output_type": "execute_result"
    }
   ],
   "source": [
    "mydata = fred.get_series('SP500')\n",
    "mydata.head()"
   ]
  },
  {
   "cell_type": "markdown",
   "metadata": {},
   "source": [
    "### Links\n",
    "* https://fred.stlouisfed.org/\n",
    "* https://github.com/mortada/fredapi\n"
   ]
  }
 ],
 "metadata": {
  "kernelspec": {
   "display_name": "Python 3",
   "language": "python",
   "name": "python3"
  },
  "language_info": {
   "codemirror_mode": {
    "name": "ipython",
    "version": 3
   },
   "file_extension": ".py",
   "mimetype": "text/x-python",
   "name": "python",
   "nbconvert_exporter": "python",
   "pygments_lexer": "ipython3",
   "version": "3.6.2"
  },
  "varInspector": {
   "cols": {
    "lenName": 16,
    "lenType": 16,
    "lenVar": 40
   },
   "kernels_config": {
    "python": {
     "delete_cmd_postfix": "",
     "delete_cmd_prefix": "del ",
     "library": "var_list.py",
     "varRefreshCmd": "print(var_dic_list())"
    },
    "r": {
     "delete_cmd_postfix": ") ",
     "delete_cmd_prefix": "rm(",
     "library": "var_list.r",
     "varRefreshCmd": "cat(var_dic_list()) "
    }
   },
   "types_to_exclude": [
    "module",
    "function",
    "builtin_function_or_method",
    "instance",
    "_Feature"
   ],
   "window_display": false
  }
 },
 "nbformat": 4,
 "nbformat_minor": 2
}
